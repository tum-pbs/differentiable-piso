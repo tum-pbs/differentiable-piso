{
 "cells": [
  {
   "cell_type": "code",
   "execution_count": 2,
   "metadata": {},
   "outputs": [],
   "source": [
    "import sys; sys.path.append('../')\n",
    "import os\n",
    "import numpy"
   ]
  },
  {
   "cell_type": "markdown",
   "metadata": {
    "collapsed": true
   },
   "source": [
    "# Structs\n",
    "\n",
    "Structs are containers for structured data, similar to NumPy arrays.\n",
    "The key difference to arrays is, however, that the data contained in structs is structured, i.e. hierarchical and named.\n",
    "This allows writing vectorized code for much more complex data structures than multi-dimensional arrays.\n",
    "\n",
    "The `struct` API constitues the bases for the the [`math` API](NumPy_and_TensorFlow_Execution.md)."
   ]
  },
  {
   "cell_type": "markdown",
   "metadata": {},
   "source": [
    "## Building structs from lists and dicts\n",
    "\n",
    "The following cell declares three structs, `a`, `b` and `c`. A full list of what classes can be used to construct structs is given later."
   ]
  },
  {
   "cell_type": "code",
   "execution_count": 3,
   "metadata": {},
   "outputs": [],
   "source": [
    "from phi import struct\n",
    "a = [1, numpy.zeros([2])]\n",
    "b = {'x0': 0, 'x1': 0.5, 'x2': 1}\n",
    "c = (a, b)"
   ]
  },
  {
   "cell_type": "markdown",
   "metadata": {},
   "source": [
    "Like arrays and tensors, structs have data types and shapes. Since a struct can contain many tensors with different types and shapes, these properties return the results in the same structure as the original struct."
   ]
  },
  {
   "cell_type": "code",
   "execution_count": 4,
   "metadata": {},
   "outputs": [
    {
     "data": {
      "text/plain": [
       "[int, numpy.ndarray]"
      ]
     },
     "execution_count": 4,
     "metadata": {},
     "output_type": "execute_result"
    }
   ],
   "source": [
    "struct.dtype(a)"
   ]
  },
  {
   "cell_type": "code",
   "execution_count": 5,
   "metadata": {},
   "outputs": [
    {
     "data": {
      "text/plain": [
       "[(), ()]"
      ]
     },
     "execution_count": 5,
     "metadata": {},
     "output_type": "execute_result"
    }
   ],
   "source": [
    "struct.shape(a)"
   ]
  },
  {
   "cell_type": "markdown",
   "metadata": {},
   "source": [
    "Functions in `phi.math` can be called on structs. This broadcasts the corresponding calls to all contained arrays."
   ]
  },
  {
   "cell_type": "code",
   "execution_count": 6,
   "metadata": {
    "scrolled": false
   },
   "outputs": [
    {
     "data": {
      "text/plain": [
       "([0.8414709848078965, array([0., 0.])],\n",
       " {'x0': 0.0, 'x1': 0.479425538604203, 'x2': 0.8414709848078965})"
      ]
     },
     "execution_count": 6,
     "metadata": {},
     "output_type": "execute_result"
    }
   ],
   "source": [
    "from phi import math\n",
    "math.sin(c)"
   ]
  },
  {
   "cell_type": "markdown",
   "metadata": {},
   "source": [
    "Note that math.sin calls numpy.sin in this case.\n",
    "If the struct contained TensorFlow or PyTorch tensors, the corresponding sin functions would be called instead."
   ]
  },
  {
   "cell_type": "markdown",
   "metadata": {},
   "source": [
    "## Types of structs\n",
    "\n",
    "The following types are considered structs:\n",
    "- Lists\n",
    "- Tuples\n",
    "- Dicts containing strings as keys\n",
    "- NumPy arrays with `dtype=numpy.object`\n",
    "- Subclasses of [`phi.struct.Struct`](../phi/struct/struct.py)\n",
    "\n",
    "All `phi.math` functions and functions of the struct API work with any of the above types.\n",
    "\n",
    "While all entries of lists, tuples, dicts and NumPy arrays are expected to hold data,\n",
    "subclasses of the `Struct` class can define further properties which are not subject to the above mentioned functions.\n",
    "\n",
    "Struct items are separated into three categories:\n",
    "- *Variables*: properties that change over time. They span the state space of a physical system in which the system moves over time.\n",
    "- *Constants*: system characteristics that specify a certain system but do not change over time.\n",
    "- *Derived quantities*: properties that may change over time but can fully be derived from variables and constants.\n",
    "\n",
    "Variables are expected to change when a struct is run through an algorithm while constants should generally only be changed by the user. Each item can hold data (tensors), other structs or other values.\n",
    "\n",
    "Typically, variables hold data while constants hold scalar values, booleans or strings."
   ]
  },
  {
   "cell_type": "markdown",
   "metadata": {},
   "source": [
    "## Iterating over structs\n",
    "\n",
    "The struct interface provides the function `map` which iterates over all data-holding items of a struct and its sub-structs by default.\n",
    "\n",
    "All items of lists and dicts are considered to be data-holding variables."
   ]
  },
  {
   "cell_type": "code",
   "execution_count": 7,
   "metadata": {
    "scrolled": true
   },
   "outputs": [
    {
     "data": {
      "text/plain": [
       "(['1', '[0. 0.]'], {'x0': '0', 'x1': '0.5', 'x2': '1'})"
      ]
     },
     "execution_count": 7,
     "metadata": {},
     "output_type": "execute_result"
    }
   ],
   "source": [
    "struct.map(lambda x: str(x), c)"
   ]
  },
  {
   "cell_type": "markdown",
   "metadata": {},
   "source": [
    "If we only wanted to affect the tensors directly held by `data`, we could call"
   ]
  },
  {
   "cell_type": "code",
   "execution_count": 8,
   "metadata": {},
   "outputs": [
    {
     "data": {
      "text/plain": [
       "('[1, array([0., 0.])]', \"{'x0': 0, 'x1': 0.5, 'x2': 1}\")"
      ]
     },
     "execution_count": 8,
     "metadata": {},
     "output_type": "execute_result"
    }
   ],
   "source": [
    "struct.map(lambda x: str(x), c, recursive=False)"
   ]
  },
  {
   "cell_type": "markdown",
   "metadata": {},
   "source": [
    "Assume, we want only dicts to be stringified as a whole.\n",
    "This can be achieved by defining a leaf_condition."
   ]
  },
  {
   "cell_type": "code",
   "execution_count": 9,
   "metadata": {},
   "outputs": [
    {
     "data": {
      "text/plain": [
       "(['1', '[0. 0.]'], \"{'x0': 0, 'x1': 0.5, 'x2': 1}\")"
      ]
     },
     "execution_count": 9,
     "metadata": {},
     "output_type": "execute_result"
    }
   ],
   "source": [
    "struct.map(lambda x: str(x), c, leaf_condition=lambda x: isinstance(x, dict))"
   ]
  },
  {
   "cell_type": "markdown",
   "metadata": {},
   "source": [
    "The parameter `item_condition` can further specify which types of items should be affected by a struct operation.\n",
    "The constants `VARIABLES`, `CONSTANTS`, `DATA` and `ALL_ITEMS` are part of the `struct` package and can be used for the `item_condition`.\n",
    "\n",
    "The item condition can also be set through the context. Operations within a `with item_condition:` block that do not override the `item_condition` parameter, use the context item condition instead. The default context item condition is `DATA`."
   ]
  },
  {
   "cell_type": "markdown",
   "metadata": {},
   "source": [
    "In some cases we require additional information when mapping a struct; not just the value but also where it is stored.\n",
    "When calling `map(.., trace=True)`, a [`Trace`](../phi/struct/functions.py) object is passed to the mapping function `f` instead of the value. In addition to retrieving the value via `trace.value`, it provides access to the attribute key as `trace.key` and the parent structs via `trace.parent`."
   ]
  },
  {
   "cell_type": "code",
   "execution_count": 10,
   "metadata": {},
   "outputs": [
    {
     "data": {
      "text/plain": [
       "([0, 1], {'x0': 'x0', 'x1': 'x1', 'x2': 'x2'})"
      ]
     },
     "execution_count": 10,
     "metadata": {},
     "output_type": "execute_result"
    }
   ],
   "source": [
    "struct.map(lambda trace: trace.key, c, trace=True)"
   ]
  },
  {
   "cell_type": "markdown",
   "metadata": {},
   "source": [
    "## Usages in Φ<sub>Flow</sub>\n",
    "\n",
    "In Φ<sub>Flow</sub>, structs are used to represent simulation states.\n",
    "Not only the state base class -- [`phi.physics.physics.State`](../phi/physics/physics.py) -- extends `Struct`, but also objects depended upon by states such as `Domain`, `Sphere`, `CenteredGrid` etc. inherit from `Struct`.\n",
    "\n",
    "Variables hold the current state of the system (e.g. current velocity field) while constants describe the system itself (e.g. fluid viscosity).\n",
    "\n",
    "Let's have a look at the structure of a `Fluid` state."
   ]
  },
  {
   "cell_type": "code",
   "execution_count": 4,
   "metadata": {
    "scrolled": true
   },
   "outputs": [
    {
     "name": "stdout",
     "output_type": "stream",
     "text": [
      "Variables:  ['age', 'density.age', 'density.data', 'velocity.age', 'velocity.data.0.age', 'velocity.data.0.data', 'velocity.data.1.age', 'velocity.data.1.data']\n",
      "\n",
      "Constants:  ['buoyancy_factor', 'domain.boundaries.friction', 'domain.boundaries.name', 'domain.boundaries.periodic', 'domain.boundaries.solid', 'domain.resolution', 'domain.box.lower', 'domain.box.upper', 'name']\n"
     ]
    }
   ],
   "source": [
    "from phi.flow import Fluid, Domain\n",
    "from phi.struct import names, flatten\n",
    "\n",
    "fluid = Fluid(Domain([80, 64]))\n",
    "\n",
    "with struct.VARIABLES:\n",
    "    print(\"Variables: \", flatten(names(fluid)))\n",
    "\n",
    "with struct.CONSTANTS:\n",
    "    print(\"\\nConstants: \", flatten(names(fluid)))"
   ]
  },
  {
   "cell_type": "markdown",
   "metadata": {},
   "source": [
    "[Staggered grids](Staggered_Grids.md), as in `fluid.velocity`, are vector fields where the arrays for each component have different shapes."
   ]
  },
  {
   "cell_type": "markdown",
   "metadata": {},
   "source": [
    "## Tensor initialization\n",
    "\n",
    "Initializer functions such as `zeros` or `placeholder` internally call their counterparts in NumPy or TensorFlow.\n",
    "They can take 1D-tensors describing the shape as input but also support structs holding shapes.\n",
    "\n",
    "Some states simplify this even further by allowing a syntax like `Fluid(density=zeros)` or `Fluid(velocity=placeholder)`."
   ]
  },
  {
   "cell_type": "code",
   "execution_count": 26,
   "metadata": {},
   "outputs": [
    {
     "data": {
      "text/plain": [
       "{'small array': array([[0.]], dtype=float32),\n",
       " 'large array': array([[[0., 0., 0., ..., 0., 0., 0.],\n",
       "         [0., 0., 0., ..., 0., 0., 0.],\n",
       "         [0., 0., 0., ..., 0., 0., 0.],\n",
       "         ...,\n",
       "         [0., 0., 0., ..., 0., 0., 0.],\n",
       "         [0., 0., 0., ..., 0., 0., 0.],\n",
       "         [0., 0., 0., ..., 0., 0., 0.]]], dtype=float32)}"
      ]
     },
     "execution_count": 26,
     "metadata": {},
     "output_type": "execute_result"
    }
   ],
   "source": [
    "math.zeros({'small array': (1,1), 'large array': [1, 64, 64]})"
   ]
  },
  {
   "cell_type": "markdown",
   "metadata": {},
   "source": [
    "### Data I/O\n",
    "\n",
    "The data writing and reading system accepts structs and automatically infers their names from the attributes.\n",
    "See the [data documentation](Reading_and_Writing_Data.md)."
   ]
  },
  {
   "cell_type": "markdown",
   "metadata": {},
   "source": [
    "### Session\n",
    "\n",
    "The TensorFlow [`Session`](../phi/tf/session.py) class is a customized version of `tf.Session` which accepts structs for the `fetches` argument as well as inside the `feed_dict`.\n",
    "\n",
    "This can be used to quickly run states through a graph like so:"
   ]
  },
  {
   "cell_type": "code",
   "execution_count": 27,
   "metadata": {},
   "outputs": [
    {
     "name": "stderr",
     "output_type": "stream",
     "text": [
      "C:\\ProgramData\\Anaconda3\\lib\\site-packages\\h5py\\__init__.py:36: FutureWarning:\n",
      "\n",
      "Conversion of the second argument of issubdtype from `float` to `np.floating` is deprecated. In future, it will be treated as `np.float64 == np.dtype(float).type`.\n",
      "\n"
     ]
    },
    {
     "name": "stdout",
     "output_type": "stream",
     "text": [
      "\n",
      "WARNING: The TensorFlow contrib module will not be included in TensorFlow 2.0.\n",
      "For more information, please see:\n",
      "  * https://github.com/tensorflow/community/blob/master/rfcs/20180907-contrib-sunset.md\n",
      "  * https://github.com/tensorflow/addons\n",
      "If you depend on functionality not listed there, please file an issue.\n",
      "\n",
      "WARNING:tensorflow:From C:\\ProgramData\\Anaconda3\\lib\\site-packages\\tensorflow\\python\\ops\\control_flow_ops.py:423: colocate_with (from tensorflow.python.framework.ops) is deprecated and will be removed in a future version.\n",
      "Instructions for updating:\n",
      "Colocations handled automatically by placer.\n"
     ]
    },
    {
     "data": {
      "text/plain": [
       "Fluid[density: Grid[16x16(1), size=[16. 16.]], velocity: StaggeredGrid[16x16, size=[16. 16.]]]"
      ]
     },
     "execution_count": 27,
     "metadata": {},
     "output_type": "execute_result"
    }
   ],
   "source": [
    "from phi.tf.flow import *\n",
    "numpy_state = Fluid(Domain([16, 16]), density=math.zeros, velocity=math.zeros)\n",
    "placeholder_state = Fluid(Domain([16, 16]), density=placeholder, velocity=placeholder)\n",
    "output_state = INCOMPRESSIBLE_FLOW.step(placeholder_state)\n",
    "session = Session(None)\n",
    "numpy_state = session.run(output_state, {placeholder_state: numpy_state})\n",
    "numpy_state"
   ]
  },
  {
   "cell_type": "markdown",
   "metadata": {},
   "source": [
    "## Validity\n",
    "\n",
    "As structs are supposed to hold data in a specific structure, there is a preferred data type for each entry.\n",
    "For a `CenteredGrid`, the `data` attribute should be a tensor or array with a certain rank and the `velocity` of a `Fluid` object should be a `StaggeredGrid`.\n",
    "\n",
    "An item is _valid_ if its value fulfills all those restrictions and can be passed to a solver.\n",
    "Subclasses of `Struct` implement validity checks and may modify their entries to make them valid.\n",
    "This allows the shorthand notation `Fluid(density=1)` to create a `CenteredGrid` full of ones.\n",
    "\n",
    "When representing some other property such as the `shape` or `dtype` of a struct, these restrictions do not apply.\n",
    "To model this behavior properly, `Struct` objects remember their content type.\n",
    "Item validation is only performed if the content type is equal to `VALID`."
   ]
  },
  {
   "cell_type": "markdown",
   "metadata": {},
   "source": [
    "# Immutability\n",
    "While structs can be mutable in principle, the public struct API does not allow for changing a struct.\n",
    "Variables and constants can be \"changed\" using the `copy_with` function and `copied_with` method.\n",
    "This does not alter the struct but creates a duplicate with the new values."
   ]
  },
  {
   "cell_type": "markdown",
   "metadata": {},
   "source": [
    "## Implementing a custom struct"
   ]
  },
  {
   "cell_type": "markdown",
   "metadata": {},
   "source": [
    "Variables and constants are declared using the decorators `struct.variable()` and `struct.constant()`, respectively.\n",
    "Variables are marked as data-holding by default, constants as non-data.\n",
    "These items create read-only attributes which should be changed only using the inherited `copied_with()` method.\n",
    "\n",
    "The `generate` method can be used to quickly generate the Python skeleton of a custom struct."
   ]
  },
  {
   "cell_type": "code",
   "execution_count": 42,
   "metadata": {},
   "outputs": [
    {
     "name": "stdout",
     "output_type": "stream",
     "text": [
      "\n",
      "from phi import struct\n",
      "\n",
      "\n",
      "@struct.definition()\n",
      "class MyStruct(struct.Struct):\n",
      "    \n",
      "    def __init__(self, v, c, other, **kwargs):\n",
      "        struct.Struct.__init__(self, **struct.kwargs(locals(), ignore=['other']))\n",
      "        self._other = other\n",
      "    \n",
      "    @struct.variable()\n",
      "    def v(self, v):\n",
      "        return v\n",
      "\n",
      "    @struct.constant()\n",
      "    def c(self, c):\n",
      "        return c\n",
      "        \n",
      "    @property\n",
      "    def other(self):\n",
      "        return self._other\n",
      "        \n",
      "\n"
     ]
    }
   ],
   "source": [
    "from phi.struct.python_generator import generate\n",
    "print(generate('MyStruct', variables=['v'], constants=['c'], others=['other']))"
   ]
  },
  {
   "cell_type": "markdown",
   "metadata": {},
   "source": [
    "The methods themselves are used for validation. In addition to `self`, each attribute and property gets the intended value as an input. The function can either directly return this value without any validity checks, raise an error for invalid values or transform the value into a valid value."
   ]
  },
  {
   "cell_type": "code",
   "execution_count": 43,
   "metadata": {},
   "outputs": [],
   "source": [
    "from phi import struct\n",
    "\n",
    "\n",
    "@struct.definition()\n",
    "class MyStruct(struct.Struct):\n",
    "    \n",
    "    def __init__(self, v, c, other, **kwargs):\n",
    "        struct.Struct.__init__(self, **struct.kwargs(locals(), ignore=['other']))\n",
    "        self._other = other\n",
    "    \n",
    "    @struct.variable()\n",
    "    def v(self, v):\n",
    "        return v\n",
    "\n",
    "    @struct.constant()\n",
    "    def c(self, c):\n",
    "        return c\n",
    "        \n",
    "    @property\n",
    "    def other(self):\n",
    "        return self._other"
   ]
  },
  {
   "cell_type": "markdown",
   "metadata": {},
   "source": [
    "We can iterate over specific items the same way as before."
   ]
  },
  {
   "cell_type": "code",
   "execution_count": 45,
   "metadata": {},
   "outputs": [
    {
     "name": "stdout",
     "output_type": "stream",
     "text": [
      "--- Variables ---\n",
      "v  (int)\n",
      "\n",
      "--- Constants ---\n",
      "c  (int)\n"
     ]
    }
   ],
   "source": [
    "mystruct = MyStruct(v=0, c=0, other=None)\n",
    "\n",
    "print('--- Variables ---')\n",
    "with struct.VARIABLES:\n",
    "    struct.map(print_name, mystruct, trace=True, content_type=struct.INVALID);\n",
    "\n",
    "print('\\n--- Constants ---')\n",
    "with struct.CONSTANTS:\n",
    "    struct.map(print_name, mystruct, trace=True, content_type=struct.INVALID);"
   ]
  },
  {
   "cell_type": "markdown",
   "metadata": {},
   "source": [
    "By inheriting from `Struct`, `MyStruct` obtains implementations for `dtype` and `shape`, making it look like a tensor. "
   ]
  },
  {
   "cell_type": "code",
   "execution_count": 52,
   "metadata": {},
   "outputs": [
    {
     "name": "stdout",
     "output_type": "stream",
     "text": [
      "MyStruct[<function dtype at 0x000002CE5BCBA378>]\n"
     ]
    }
   ],
   "source": [
    "print(mystruct.dtype)"
   ]
  },
  {
   "cell_type": "code",
   "execution_count": 53,
   "metadata": {},
   "outputs": [
    {
     "name": "stdout",
     "output_type": "stream",
     "text": [
      "int32 0\n"
     ]
    }
   ],
   "source": [
    "print(mystruct.dtype.v, mystruct.dtype.c)"
   ]
  },
  {
   "cell_type": "code",
   "execution_count": 54,
   "metadata": {},
   "outputs": [
    {
     "name": "stdout",
     "output_type": "stream",
     "text": [
      "() 0\n"
     ]
    }
   ],
   "source": [
    "print(mystruct.shape.v, mystruct.shape.c)"
   ]
  },
  {
   "cell_type": "markdown",
   "metadata": {},
   "source": [
    "Note that `shape` and `dtype` use the context item condition (`DATA` by default). Therefore only the variable `v` is affected at the moment. To obtain the shapes of other items, we can use the `with item_condition:` syntax."
   ]
  },
  {
   "cell_type": "code",
   "execution_count": 55,
   "metadata": {},
   "outputs": [
    {
     "name": "stdout",
     "output_type": "stream",
     "text": [
      "int32 int32\n"
     ]
    }
   ],
   "source": [
    "with struct.ALL_ITEMS:\n",
    "    print(mystruct.dtype.v, mystruct.dtype.c)"
   ]
  },
  {
   "cell_type": "markdown",
   "metadata": {},
   "source": [
    "The inherited `copied_with` method can be used to \"change\" variables and constants."
   ]
  },
  {
   "cell_type": "code",
   "execution_count": 64,
   "metadata": {},
   "outputs": [
    {
     "name": "stdout",
     "output_type": "stream",
     "text": [
      "1 1\n"
     ]
    }
   ],
   "source": [
    "changed = mystruct.copied_with(v=1, c=1)\n",
    "print(changed.v, changed.c)"
   ]
  },
  {
   "cell_type": "markdown",
   "metadata": {},
   "source": [
    "## Custom validation functions\n",
    "Each item is declared as a function. This function is called upon validation to return a valid value for the item or raise an error.\n",
    "\n",
    "Let's have the variable always be of type float and convert the constant to a string."
   ]
  },
  {
   "cell_type": "code",
   "execution_count": 65,
   "metadata": {},
   "outputs": [],
   "source": [
    "@struct.definition()\n",
    "class MyStruct(struct.Struct):\n",
    "    \n",
    "    def __init__(self, v, c, other, **kwargs):\n",
    "        struct.Struct.__init__(self, **struct.kwargs(locals(), ignore=['other']))\n",
    "        self._other = other\n",
    "    \n",
    "    @struct.variable()\n",
    "    def v(self, v):\n",
    "        return float(v)\n",
    "\n",
    "    @struct.constant()\n",
    "    def c(self, c):\n",
    "        return str(c)\n",
    "        \n",
    "    @property\n",
    "    def other(self):\n",
    "        return self._other"
   ]
  },
  {
   "cell_type": "code",
   "execution_count": 67,
   "metadata": {},
   "outputs": [
    {
     "name": "stdout",
     "output_type": "stream",
     "text": [
      "float64 <class 'str'>\n"
     ]
    }
   ],
   "source": [
    "mystruct = MyStruct(v=0, c=0, other=None)\n",
    "with struct.ALL_ITEMS:\n",
    "    print(mystruct.dtype.v, mystruct.dtype.c)"
   ]
  },
  {
   "cell_type": "markdown",
   "metadata": {},
   "source": [
    "To skip validation, we could declare a different content type."
   ]
  },
  {
   "cell_type": "code",
   "execution_count": 71,
   "metadata": {},
   "outputs": [
    {
     "name": "stdout",
     "output_type": "stream",
     "text": [
      "int32 int32\n"
     ]
    }
   ],
   "source": [
    "mystruct = MyStruct(v=0, c=0, other=None, content_type=struct.INVALID)\n",
    "with struct.ALL_ITEMS:\n",
    "    print(mystruct.dtype.v, mystruct.dtype.c)"
   ]
  }
 ],
 "metadata": {
  "kernelspec": {
   "display_name": "Python 3",
   "language": "python",
   "name": "python3"
  },
  "language_info": {
   "codemirror_mode": {
    "name": "ipython",
    "version": 3
   },
   "file_extension": ".py",
   "mimetype": "text/x-python",
   "name": "python",
   "nbconvert_exporter": "python",
   "pygments_lexer": "ipython3",
   "version": "3.6.5"
  }
 },
 "nbformat": 4,
 "nbformat_minor": 1
}
